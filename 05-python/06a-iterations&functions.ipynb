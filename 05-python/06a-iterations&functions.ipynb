{
 "cells": [
  {
   "cell_type": "code",
   "execution_count": null,
   "metadata": {},
   "outputs": [],
   "source": [
    "print(\"welcome to class\")"
   ]
  },
  {
   "cell_type": "markdown",
   "metadata": {},
   "source": [
    "### Task - Hackerrank If-Else\n",
    "#### Given an integer, n , perform the following conditional actions:\n",
    "\n",
    "    If  is odd, print Weird\n",
    "    If  is even and in the inclusive range of 2 to 5, print Not Weird\n",
    "    If  is even and in the inclusive range of 6 to 20 , print Weird\n",
    "    If  is even and greater than 20 , print Not Weird\n",
    "\n",
    "*Input Format*\n",
    "\n",
    "    A single line containing a positive integer, .\n",
    "\n",
    "    Constraints 1 < n < 100 \n",
    "\n",
    "*Output Format*\n",
    "\n",
    "    Print Weird if the number is weird. Otherwise, print Not Weird.\n"
   ]
  },
  {
   "cell_type": "code",
   "execution_count": null,
   "metadata": {},
   "outputs": [],
   "source": [
    "n = 22"
   ]
  },
  {
   "cell_type": "code",
   "execution_count": null,
   "metadata": {},
   "outputs": [],
   "source": [
    "# If Else hackerrank Exercise\n",
    "\n",
    "if n % 2 == 1 or 6 <= n <= 20:\n",
    "    print(\"Weird\")\n",
    "else:\n",
    "    print(\"Not Weird\")"
   ]
  },
  {
   "cell_type": "code",
   "execution_count": null,
   "metadata": {},
   "outputs": [],
   "source": [
    "if n % 2 == 0 and (2<= n <=5) :\n",
    "    print (\"Not Weird\")\n",
    "        \n",
    "elif n % 2 == 0 and (6<= n <=20):\n",
    "    print (\"Weird\")\n",
    "            \n",
    "elif n % 2 == 0 and n >20 :\n",
    "    print (\"Not Weird\")\n",
    "    \n",
    "else: \n",
    "    print (\"Weird\")"
   ]
  },
  {
   "cell_type": "code",
   "execution_count": null,
   "metadata": {},
   "outputs": [],
   "source": [
    "def weird_numbers(n):\n",
    "    result = n + 1\n",
    "    return result"
   ]
  },
  {
   "cell_type": "code",
   "execution_count": null,
   "metadata": {},
   "outputs": [],
   "source": [
    "weird_numbers(0)"
   ]
  },
  {
   "cell_type": "code",
   "execution_count": null,
   "metadata": {},
   "outputs": [],
   "source": [
    "a = [1, 2, 3, 4]"
   ]
  },
  {
   "cell_type": "code",
   "execution_count": null,
   "metadata": {},
   "outputs": [],
   "source": [
    "def average(numbers_list):\n",
    "    '''\n",
    "    Calculates the Average of a numerical list\n",
    "    '''\n",
    "    return sum(numbers_list)/len(numbers_list)"
   ]
  },
  {
   "cell_type": "code",
   "execution_count": null,
   "metadata": {},
   "outputs": [],
   "source": [
    "average(a)"
   ]
  },
  {
   "cell_type": "code",
   "execution_count": null,
   "metadata": {},
   "outputs": [],
   "source": [
    "def is_weird(n):\n",
    "    if n % 2 == 0 and (2<= n <=5) :\n",
    "        print (\"Not Weird\")\n",
    "    elif n % 2 == 0 and (6<= n <=20):\n",
    "        print (\"Weird\")   \n",
    "    elif n % 2 == 0 and n >20 :\n",
    "        print (\"Not Weird\")\n",
    "    else: \n",
    "        print (\"Weird\")\n",
    "    return(n+200)"
   ]
  },
  {
   "cell_type": "code",
   "execution_count": null,
   "metadata": {},
   "outputs": [],
   "source": [
    "is_weird(3)"
   ]
  },
  {
   "cell_type": "code",
   "execution_count": null,
   "metadata": {},
   "outputs": [],
   "source": [
    "print(\"My name is nourah\")"
   ]
  },
  {
   "cell_type": "code",
   "execution_count": null,
   "metadata": {},
   "outputs": [],
   "source": [
    "if True:\n",
    "    statement = \"My name is nourah\""
   ]
  },
  {
   "cell_type": "code",
   "execution_count": null,
   "metadata": {},
   "outputs": [],
   "source": [
    "function_result = is_weird(3)"
   ]
  },
  {
   "cell_type": "code",
   "execution_count": null,
   "metadata": {},
   "outputs": [],
   "source": [
    "print(function_result)"
   ]
  },
  {
   "cell_type": "code",
   "execution_count": null,
   "metadata": {},
   "outputs": [],
   "source": [
    "is_weird(is_weird(3))"
   ]
  },
  {
   "cell_type": "markdown",
   "metadata": {},
   "source": [
    "#### Write a function that takes 3 arguments, adds them to a list, sort them and then return the greatest number in float format\n",
    "##### - Arguemnts might be a number in string format (e.g. \"3\")\n",
    "#### - do not use the built in (max) function"
   ]
  },
  {
   "cell_type": "code",
   "execution_count": null,
   "metadata": {},
   "outputs": [],
   "source": [
    "a = 90\n",
    "b = \"6\"\n",
    "c = 55.5"
   ]
  },
  {
   "cell_type": "code",
   "execution_count": null,
   "metadata": {},
   "outputs": [],
   "source": [
    "def max_num(a, b, c): \n",
    "    a = float(a)\n",
    "    b = float(b)\n",
    "    c = float(c)\n",
    "    num_list = [a, b, c]\n",
    "    num_list.sort()\n",
    "    return num_list[-1]"
   ]
  },
  {
   "cell_type": "code",
   "execution_count": null,
   "metadata": {},
   "outputs": [],
   "source": [
    "max_num(a, b, c)"
   ]
  },
  {
   "cell_type": "code",
   "execution_count": null,
   "metadata": {},
   "outputs": [],
   "source": [
    "def which_greatest(num_1,num_2,num_3):\n",
    "    num_1=float(num_1)\n",
    "    num_2=float(num_2)\n",
    "    num_3=float(num_3)\n",
    "\n",
    "    if num_1>num_2 and num_1>num_3:\n",
    "        is_greatest=num_1\n",
    "    elif num_2>num_3:\n",
    "        is_greatest=num_2\n",
    "    else:\n",
    "        is_greatest=num_3\n",
    "    return is_greatest"
   ]
  },
  {
   "cell_type": "code",
   "execution_count": null,
   "metadata": {},
   "outputs": [],
   "source": [
    "which_greatest(a, b, c)"
   ]
  },
  {
   "cell_type": "code",
   "execution_count": null,
   "metadata": {},
   "outputs": [],
   "source": [
    "float(90.0)"
   ]
  },
  {
   "cell_type": "code",
   "execution_count": null,
   "metadata": {},
   "outputs": [],
   "source": [
    "def greatest(a, b, c):\n",
    "    if type(a) == str:\n",
    "        a = float(a)\n",
    "    if type(b) == str:\n",
    "        b = float(b)\n",
    "    if type(c) == str:\n",
    "        c = float(c)\n",
    "    numbers = [a, b, c]\n",
    "    numbers.sort()\n",
    "    return float(numbers.pop())"
   ]
  },
  {
   "cell_type": "code",
   "execution_count": null,
   "metadata": {},
   "outputs": [],
   "source": [
    "greatest(a, b, c)"
   ]
  },
  {
   "cell_type": "code",
   "execution_count": 60,
   "metadata": {},
   "outputs": [],
   "source": [
    "my_list = [1, 3, 55 ,8 , 23, 4]"
   ]
  },
  {
   "cell_type": "code",
   "execution_count": 65,
   "metadata": {},
   "outputs": [
    {
     "name": "stdout",
     "output_type": "stream",
     "text": [
      "1\n",
      "[2]\n",
      "3\n",
      "[2, 4]\n",
      "55\n",
      "[2, 4, 56]\n",
      "8\n",
      "[2, 4, 56, 9]\n",
      "23\n",
      "[2, 4, 56, 9, 24]\n",
      "4\n",
      "[2, 4, 56, 9, 24, 5]\n"
     ]
    }
   ],
   "source": [
    "new_list = []\n",
    "for n in my_list:\n",
    "    print(n)\n",
    "    new_list.append(n+1)\n",
    "    print(new_list)"
   ]
  },
  {
   "cell_type": "code",
   "execution_count": 64,
   "metadata": {},
   "outputs": [
    {
     "data": {
      "text/plain": [
       "[2, 4, 56, 9, 24, 5]"
      ]
     },
     "execution_count": 64,
     "metadata": {},
     "output_type": "execute_result"
    }
   ],
   "source": [
    "new_list"
   ]
  },
  {
   "cell_type": "code",
   "execution_count": 67,
   "metadata": {},
   "outputs": [
    {
     "name": "stdout",
     "output_type": "stream",
     "text": [
      "Razan\n",
      "Razan\n",
      "Razan\n",
      "Razan\n",
      "Razan\n"
     ]
    }
   ],
   "source": [
    "for letter in \"Razan\":\n",
    "    print(\"Razan\")"
   ]
  },
  {
   "cell_type": "code",
   "execution_count": 70,
   "metadata": {},
   "outputs": [
    {
     "name": "stdout",
     "output_type": "stream",
     "text": [
      "0\n",
      "1\n",
      "4\n",
      "9\n"
     ]
    }
   ],
   "source": [
    "for i in range(4):\n",
    "    print(i**2)\n"
   ]
  },
  {
   "cell_type": "code",
   "execution_count": 72,
   "metadata": {},
   "outputs": [],
   "source": [
    "my_dictionary = {\"country\":\"saudi\", \"capital\":\"riyadh\"}"
   ]
  },
  {
   "cell_type": "code",
   "execution_count": 74,
   "metadata": {},
   "outputs": [
    {
     "data": {
      "text/plain": [
       "[('country', 'saudi'), ('capital', 'riyadh')]"
      ]
     },
     "execution_count": 74,
     "metadata": {},
     "output_type": "execute_result"
    }
   ],
   "source": [
    "list(my_dictionary.items())"
   ]
  },
  {
   "cell_type": "code",
   "execution_count": 82,
   "metadata": {},
   "outputs": [
    {
     "name": "stdout",
     "output_type": "stream",
     "text": [
      "Country\n",
      "saudi\n",
      "1\n",
      "end of ('country', 'saudi') iteration\n",
      "Capital\n",
      "riyadh\n",
      "1\n",
      "end of ('capital', 'riyadh') iteration\n",
      "2\n"
     ]
    }
   ],
   "source": [
    "counter = 0\n",
    "for key, value in my_dictionary.items():\n",
    "    print(key.capitalize())\n",
    "    print(value)\n",
    "    print(value.count('i'))\n",
    "    print(f\"end of {key, value} iteration\")\n",
    "    counter = counter + 1\n",
    "print(counter)\n"
   ]
  },
  {
   "cell_type": "code",
   "execution_count": 87,
   "metadata": {},
   "outputs": [
    {
     "name": "stdout",
     "output_type": "stream",
     "text": [
      "one more iteration\n",
      "1\n",
      "one more iteration\n",
      "2\n",
      "one more iteration\n",
      "3\n",
      "one more iteration\n",
      "4\n",
      "one more iteration\n",
      "5\n",
      "one more iteration\n",
      "6\n",
      "one more iteration\n",
      "7\n",
      "one more iteration\n",
      "8\n",
      "one more iteration\n",
      "9\n",
      "one more iteration\n",
      "10\n"
     ]
    }
   ],
   "source": [
    "counter = 0\n",
    "while counter < 10:\n",
    "    print(\"one more iteration\")\n",
    "    counter = counter + 1\n",
    "    print(counter)"
   ]
  },
  {
   "cell_type": "code",
   "execution_count": null,
   "metadata": {},
   "outputs": [],
   "source": []
  }
 ],
 "metadata": {
  "kernelspec": {
   "display_name": "Python 3.9.12 ('base')",
   "language": "python",
   "name": "python3"
  },
  "language_info": {
   "codemirror_mode": {
    "name": "ipython",
    "version": 3
   },
   "file_extension": ".py",
   "mimetype": "text/x-python",
   "name": "python",
   "nbconvert_exporter": "python",
   "pygments_lexer": "ipython3",
   "version": "3.9.12"
  },
  "orig_nbformat": 4,
  "vscode": {
   "interpreter": {
    "hash": "d4d1e4263499bec80672ea0156c357c1ee493ec2b1c70f0acce89fc37c4a6abe"
   }
  }
 },
 "nbformat": 4,
 "nbformat_minor": 2
}
