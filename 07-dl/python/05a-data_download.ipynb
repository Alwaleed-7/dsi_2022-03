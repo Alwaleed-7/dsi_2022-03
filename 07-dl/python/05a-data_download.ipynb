{
 "cells": [
  {
   "cell_type": "markdown",
   "metadata": {},
   "source": [
    "# Obtain Cat & Dog Images from Kaggle   "
   ]
  },
  {
   "cell_type": "code",
   "execution_count": null,
   "metadata": {},
   "outputs": [],
   "source": [
    "%% capture\n",
    "\n",
    "%pip install ipympl"
   ]
  },
  {
   "cell_type": "code",
   "execution_count": 4,
   "metadata": {},
   "outputs": [],
   "source": [
    "import os\n",
    "import shutil\n",
    "import time\n",
    "import urllib\n",
    "import zipfile"
   ]
  },
  {
   "cell_type": "markdown",
   "metadata": {},
   "source": [
    "The binary classification of cat & dog images is a classic example of Computer Vision using CNNs. The dataset, obtained from Kaggle as an 850Mb compressed zip file, containe 25,000 images.\n",
    "\n",
    "We may consider manually downloading and unzipping the file, but not manually sorting 25,000 files into the required directory structure:"
   ]
  },
  {
   "cell_type": "markdown",
   "metadata": {},
   "source": [
    "```\n",
    "- data\n",
    "   └── dogs-vs-cats\n",
    "       └── train\n",
    "           └── cats\n",
    "               ├── cat.1.jpg\n",
    "               ├── cat.2.jpg\n",
    "               └── ...\n",
    "           └── dogs\n",
    "               ├── dog.1.jpg\n",
    "               ├── dog.2.jpg\n",
    "               └── ...\n",
    "       └── validation\n",
    "           ├── cats\n",
    "           └── dogs\n",
    "       └── test\n",
    "           ├── cats\n",
    "           └── dogs\n",
    "```"
   ]
  },
  {
   "cell_type": "markdown",
   "metadata": {},
   "source": [
    "As you can imagine, we don't need to consider either. We can do it all in the sheel, in R or in Python. The following functions come from GitHub user _maruel_ and can be found along with further details on this case study [here](https://github.com/maruel/ml/blob/39e1883d7ee0c4393ba0b35bd7cc9ac2066e4e72/notebooks/chap8.ipynb#L40)."
   ]
  },
  {
   "cell_type": "code",
   "execution_count": 5,
   "metadata": {},
   "outputs": [
    {
     "name": "stdout",
     "output_type": "stream",
     "text": [
      "Downloading dogs-vs-cats.zip to kaggle/dogs-vs-cats\n",
      "100%|███████████████████████████████████████▉| 812M/812M [01:08<00:00, 13.0MB/s]\n",
      "100%|████████████████████████████████████████| 812M/812M [01:08<00:00, 12.5MB/s]\n"
     ]
    }
   ],
   "source": [
    "def download():\n",
    "    \"\"\"Creates ./kaggle/dogs-vs-cats/dogs-vs-cats.zip\"\"\"\n",
    "    # - Visit https://www.kaggle.com/\n",
    "    # - login,\n",
    "    # - Go to your account\n",
    "    # - Click \"Create New API Token\"\n",
    "    # - Put the file in ~/.kaggle\n",
    "    # - chmod 600 ~/.kaggle/kaggle.json\n",
    "    # - Visit https://www.kaggle.com/c/dogs-vs-cats/rules\n",
    "    # - Click \"I understand and accept\"\n",
    "    !kaggle competitions download -c dogs-vs-cats -p kaggle/dogs-vs-cats\n",
    "\n",
    "def extract():\n",
    "    \"\"\"Doing the reverse and opening each file one at a time is notoriously slow in python(!)\"\"\"\n",
    "    for t in (\"cat\", \"dog\"):\n",
    "        for d in (\"train\", \"validation\", \"test\"):\n",
    "            os.makedirs(f\"kaggle/dogs-vs-cats/{d}/{t}\", exist_ok=True) \n",
    "    with zipfile.ZipFile(\"kaggle/dogs-vs-cats/dogs-vs-cats.zip\") as z1:\n",
    "        with zipfile.ZipFile(z1.open(\"train.zip\")) as z:\n",
    "            for inf in z.infolist():\n",
    "                n = inf.filename\n",
    "                if not n.startswith(\"train/\") or not n.endswith(\".jpg\"):\n",
    "                    continue\n",
    "                n = n[6:]\n",
    "                p = n.split(\".\")\n",
    "                i = int(p[1])\n",
    "                if i < 1000:\n",
    "                    with open(\"kaggle/dogs-vs-cats/train/%s/%s.jpg\" % (p[0], p[1]), \"wb\") as f:\n",
    "                        f.write(z.read(inf))\n",
    "                elif i < 1500:\n",
    "                    with open(\"kaggle/dogs-vs-cats/validation/%s/%s.jpg\" % (p[0], p[1]), \"wb\") as f:\n",
    "                        f.write(z.read(inf))\n",
    "                elif i < 2500:\n",
    "                    with open(\"kaggle/dogs-vs-cats/test/%s/%s.jpg\" % (p[0], p[1]), \"wb\") as f:\n",
    "                        f.write(z.read(inf))\n",
    "\n",
    "if not os.path.isfile(\"kaggle/dogs-vs-cats/test/dog/2499.jpg\"):\n",
    "    download()\n",
    "    extract()"
   ]
  }
 ],
 "metadata": {
  "kernelspec": {
   "display_name": "Python 3.9.13",
   "language": "python",
   "name": "python3"
  },
  "language_info": {
   "codemirror_mode": {
    "name": "ipython",
    "version": 3
   },
   "file_extension": ".py",
   "mimetype": "text/x-python",
   "name": "python",
   "nbconvert_exporter": "python",
   "pygments_lexer": "ipython3",
   "version": "3.9.13"
  },
  "orig_nbformat": 4,
  "vscode": {
   "interpreter": {
    "hash": "df043af0cc3355e80c18baaf88b78a659ad90ca07cd78572fa99182ec8d62083"
   }
  }
 },
 "nbformat": 4,
 "nbformat_minor": 2
}
