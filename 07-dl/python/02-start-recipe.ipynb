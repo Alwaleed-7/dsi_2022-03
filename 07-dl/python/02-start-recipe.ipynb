{
 "cells": [
  {
   "cell_type": "markdown",
   "id": "9aaadfec-e159-49c2-bd4e-1e12ed1b83f0",
   "metadata": {},
   "source": [
    "# A Starter Recipe\n",
    "\n",
    "This notebook is designed to provide similar code and output that is observed in the R notebook."
   ]
  },
  {
   "cell_type": "markdown",
   "id": "511fb4b8-9c40-43bb-a26c-9f96bf0e0fa9",
   "metadata": {},
   "source": [
    "## Package Requirements"
   ]
  },
  {
   "cell_type": "code",
   "execution_count": 2,
   "id": "d525e864-f03d-4547-ab45-2150c22d2ad0",
   "metadata": {},
   "outputs": [],
   "source": [
    "# general helper libraries\n",
    "import matplotlib.pyplot as plt\n",
    "import numpy as np\n",
    "import pandas as pd\n",
    "import random\n",
    "\n",
    "# dataset used\n",
    "from tensorflow.keras.datasets import mnist\n",
    "\n",
    "# deep learning functionality\n",
    "from tensorflow.keras.utils import to_categorical\n",
    "from tensorflow.keras.models import Sequential\n",
    "from tensorflow.keras.layers import Dense, Dropout\n",
    "from tensorflow.keras.optimizers import SGD\n",
    "from tensorflow.keras.callbacks import EarlyStopping, ReduceLROnPlateau\n",
    "from tensorflow.keras import regularizers\n",
    "\n",
    "# model results analysis\n",
    "from sklearn.metrics import confusion_matrix\n",
    "from sklearn.metrics import ConfusionMatrixDisplay"
   ]
  },
  {
   "cell_type": "markdown",
   "id": "573f8e31-bbc2-4871-ad88-46c47706ebfc",
   "metadata": {},
   "source": [
    "## MNIST"
   ]
  },
  {
   "cell_type": "code",
   "execution_count": 3,
   "id": "a227d5c5-c47d-4ee0-9962-c723d74a6253",
   "metadata": {},
   "outputs": [],
   "source": [
    "(x_train, y_train), (x_test, y_test) = mnist.load_data()\n",
    "assert x_train.shape == (60000, 28, 28)\n",
    "assert x_test.shape  == (10000, 28, 28)\n",
    "assert y_train.shape == (60000,)\n",
    "assert y_test.shape  == (10000,)"
   ]
  },
  {
   "cell_type": "code",
   "execution_count": 4,
   "id": "a530dbe9-8ba0-46c2-869b-51a770f962db",
   "metadata": {},
   "outputs": [
    {
     "data": {
      "text/plain": [
       "array([[  0,   0,   0,   0,   0,   0,   0,   0,   0,   0,   0,   0,   0,\n",
       "          0,   0,   0,   0,   0,   0,   0,   0,   0,   0,   0,   0,   0,\n",
       "          0,   0],\n",
       "       [  0,   0,   0,   0,   0,   0,   0,   0,   0,   0,   0,   0,   0,\n",
       "          0,   0,   0,   0,   0,   0,   0,   0,   0,   0,   0,   0,   0,\n",
       "          0,   0],\n",
       "       [  0,   0,   0,   0,   0,   0,   0,   0,   0,   0,   0,   0,   0,\n",
       "          0,   0,   0,   0,   0,   0,   0,   0,   0,   0,   0,   0,   0,\n",
       "          0,   0],\n",
       "       [  0,   0,   0,   0,   0,   0,   0,   0,   0,   0,   0,   0,   0,\n",
       "          0,   0,   0,   0,   0,   0,   0,   0,   0,   0,   0,   0,   0,\n",
       "          0,   0],\n",
       "       [  0,   0,   0,   0,   0,   0,   0,   0,   0,   0,   0,   0,   0,\n",
       "          0,   0,   0,   0,   0,   0,   0,   0,   0,   0,   0,   0,   0,\n",
       "          0,   0],\n",
       "       [  0,   0,   0,   0,   0,   0,   0,   0,   0,   0,   0,   0,   3,\n",
       "         18,  18,  18, 126, 136, 175,  26, 166, 255, 247, 127,   0,   0,\n",
       "          0,   0],\n",
       "       [  0,   0,   0,   0,   0,   0,   0,   0,  30,  36,  94, 154, 170,\n",
       "        253, 253, 253, 253, 253, 225, 172, 253, 242, 195,  64,   0,   0,\n",
       "          0,   0],\n",
       "       [  0,   0,   0,   0,   0,   0,   0,  49, 238, 253, 253, 253, 253,\n",
       "        253, 253, 253, 253, 251,  93,  82,  82,  56,  39,   0,   0,   0,\n",
       "          0,   0],\n",
       "       [  0,   0,   0,   0,   0,   0,   0,  18, 219, 253, 253, 253, 253,\n",
       "        253, 198, 182, 247, 241,   0,   0,   0,   0,   0,   0,   0,   0,\n",
       "          0,   0],\n",
       "       [  0,   0,   0,   0,   0,   0,   0,   0,  80, 156, 107, 253, 253,\n",
       "        205,  11,   0,  43, 154,   0,   0,   0,   0,   0,   0,   0,   0,\n",
       "          0,   0],\n",
       "       [  0,   0,   0,   0,   0,   0,   0,   0,   0,  14,   1, 154, 253,\n",
       "         90,   0,   0,   0,   0,   0,   0,   0,   0,   0,   0,   0,   0,\n",
       "          0,   0],\n",
       "       [  0,   0,   0,   0,   0,   0,   0,   0,   0,   0,   0, 139, 253,\n",
       "        190,   2,   0,   0,   0,   0,   0,   0,   0,   0,   0,   0,   0,\n",
       "          0,   0],\n",
       "       [  0,   0,   0,   0,   0,   0,   0,   0,   0,   0,   0,  11, 190,\n",
       "        253,  70,   0,   0,   0,   0,   0,   0,   0,   0,   0,   0,   0,\n",
       "          0,   0],\n",
       "       [  0,   0,   0,   0,   0,   0,   0,   0,   0,   0,   0,   0,  35,\n",
       "        241, 225, 160, 108,   1,   0,   0,   0,   0,   0,   0,   0,   0,\n",
       "          0,   0],\n",
       "       [  0,   0,   0,   0,   0,   0,   0,   0,   0,   0,   0,   0,   0,\n",
       "         81, 240, 253, 253, 119,  25,   0,   0,   0,   0,   0,   0,   0,\n",
       "          0,   0],\n",
       "       [  0,   0,   0,   0,   0,   0,   0,   0,   0,   0,   0,   0,   0,\n",
       "          0,  45, 186, 253, 253, 150,  27,   0,   0,   0,   0,   0,   0,\n",
       "          0,   0],\n",
       "       [  0,   0,   0,   0,   0,   0,   0,   0,   0,   0,   0,   0,   0,\n",
       "          0,   0,  16,  93, 252, 253, 187,   0,   0,   0,   0,   0,   0,\n",
       "          0,   0],\n",
       "       [  0,   0,   0,   0,   0,   0,   0,   0,   0,   0,   0,   0,   0,\n",
       "          0,   0,   0,   0, 249, 253, 249,  64,   0,   0,   0,   0,   0,\n",
       "          0,   0],\n",
       "       [  0,   0,   0,   0,   0,   0,   0,   0,   0,   0,   0,   0,   0,\n",
       "          0,  46, 130, 183, 253, 253, 207,   2,   0,   0,   0,   0,   0,\n",
       "          0,   0],\n",
       "       [  0,   0,   0,   0,   0,   0,   0,   0,   0,   0,   0,   0,  39,\n",
       "        148, 229, 253, 253, 253, 250, 182,   0,   0,   0,   0,   0,   0,\n",
       "          0,   0],\n",
       "       [  0,   0,   0,   0,   0,   0,   0,   0,   0,   0,  24, 114, 221,\n",
       "        253, 253, 253, 253, 201,  78,   0,   0,   0,   0,   0,   0,   0,\n",
       "          0,   0],\n",
       "       [  0,   0,   0,   0,   0,   0,   0,   0,  23,  66, 213, 253, 253,\n",
       "        253, 253, 198,  81,   2,   0,   0,   0,   0,   0,   0,   0,   0,\n",
       "          0,   0],\n",
       "       [  0,   0,   0,   0,   0,   0,  18, 171, 219, 253, 253, 253, 253,\n",
       "        195,  80,   9,   0,   0,   0,   0,   0,   0,   0,   0,   0,   0,\n",
       "          0,   0],\n",
       "       [  0,   0,   0,   0,  55, 172, 226, 253, 253, 253, 253, 244, 133,\n",
       "         11,   0,   0,   0,   0,   0,   0,   0,   0,   0,   0,   0,   0,\n",
       "          0,   0],\n",
       "       [  0,   0,   0,   0, 136, 253, 253, 253, 212, 135, 132,  16,   0,\n",
       "          0,   0,   0,   0,   0,   0,   0,   0,   0,   0,   0,   0,   0,\n",
       "          0,   0],\n",
       "       [  0,   0,   0,   0,   0,   0,   0,   0,   0,   0,   0,   0,   0,\n",
       "          0,   0,   0,   0,   0,   0,   0,   0,   0,   0,   0,   0,   0,\n",
       "          0,   0],\n",
       "       [  0,   0,   0,   0,   0,   0,   0,   0,   0,   0,   0,   0,   0,\n",
       "          0,   0,   0,   0,   0,   0,   0,   0,   0,   0,   0,   0,   0,\n",
       "          0,   0],\n",
       "       [  0,   0,   0,   0,   0,   0,   0,   0,   0,   0,   0,   0,   0,\n",
       "          0,   0,   0,   0,   0,   0,   0,   0,   0,   0,   0,   0,   0,\n",
       "          0,   0]], dtype=uint8)"
      ]
     },
     "execution_count": 4,
     "metadata": {},
     "output_type": "execute_result"
    }
   ],
   "source": [
    "x_train[0]"
   ]
  },
  {
   "cell_type": "code",
   "execution_count": 5,
   "id": "96cd49d5-f3c8-4a89-ade7-8abb35cdaba6",
   "metadata": {},
   "outputs": [
    {
     "data": {
      "image/png": "[encoded data removed]",
      "text/plain": [
       "<Figure size 432x288 with 1 Axes>"
      ]
     },
     "metadata": {
      "needs_background": "light"
     },
     "output_type": "display_data"
    }
   ],
   "source": [
    "plt.imshow(x_train[0], cmap=plt.get_cmap('gray'))\n",
    "plt.show()"
   ]
  },
  {
   "cell_type": "code",
   "execution_count": 6,
   "id": "5f2107dc-9f92-4cf5-bee0-0de09a657431",
   "metadata": {},
   "outputs": [
    {
     "data": {
      "image/png": "[encoded data removed]",
      "text/plain": [
       "<Figure size 120x120 with 1 Axes>"
      ]
     },
     "metadata": {
      "needs_background": "light"
     },
     "output_type": "display_data"
    },
    {
     "data": {
      "image/png": "[encoded data removed]",
      "text/plain": [
       "<Figure size 120x120 with 1 Axes>"
      ]
     },
     "metadata": {
      "needs_background": "light"
     },
     "output_type": "display_data"
    },
    {
     "data": {
      "image/png": "[encoded data removed]",
      "text/plain": [
       "<Figure size 120x120 with 1 Axes>"
      ]
     },
     "metadata": {
      "needs_background": "light"
     },
     "output_type": "display_data"
    },
    {
     "data": {
      "image/png": "[encoded data removed]",
      "text/plain": [
       "<Figure size 120x120 with 1 Axes>"
      ]
     },
     "metadata": {
      "needs_background": "light"
     },
     "output_type": "display_data"
    },
    {
     "data": {
      "image/png": "[encoded data removed]",
      "text/plain": [
       "<Figure size 120x120 with 1 Axes>"
      ]
     },
     "metadata": {
      "needs_background": "light"
     },
     "output_type": "display_data"
    },
    {
     "data": {
      "image/png": "[encoded data removed]",
      "text/plain": [
       "<Figure size 120x120 with 1 Axes>"
      ]
     },
     "metadata": {
      "needs_background": "light"
     },
     "output_type": "display_data"
    },
    {
     "data": {
      "image/png": "[encoded data removed]",
      "text/plain": [
       "<Figure size 120x120 with 1 Axes>"
      ]
     },
     "metadata": {
      "needs_background": "light"
     },
     "output_type": "display_data"
    },
    {
     "data": {
      "image/png": "[encoded data removed]",
      "text/plain": [
       "<Figure size 120x120 with 1 Axes>"
      ]
     },
     "metadata": {
      "needs_background": "light"
     },
     "output_type": "display_data"
    },
    {
     "data": {
      "image/png": "[encoded data removed]",
      "text/plain": [
       "<Figure size 120x120 with 1 Axes>"
      ]
     },
     "metadata": {
      "needs_background": "light"
     },
     "output_type": "display_data"
    }
   ],
   "source": [
    "for i in range(9):  \n",
    "    plt.figure(figsize=(1.5, 1.5), dpi=80)\n",
    "    plt.imshow(x_train[i], cmap=plt.get_cmap('gray'))\n",
    "    plt.show()"
   ]
  },
  {
   "cell_type": "markdown",
   "id": "6e022971-eca1-4a41-8259-c15189123539",
   "metadata": {},
   "source": [
    "## Prepare Data"
   ]
  },
  {
   "cell_type": "markdown",
   "id": "7a7883ee-56dc-45fe-9138-dcb06c1d92ff",
   "metadata": {},
   "source": [
    "### Shape into proper tensor form"
   ]
  },
  {
   "cell_type": "code",
   "execution_count": 7,
   "id": "3779653d-97a4-445c-a5c2-07b3e357a714",
   "metadata": {},
   "outputs": [],
   "source": [
    "# reshape features\n",
    "train_images = x_train.reshape((60000, 28*28))\n",
    "test_images = x_test.reshape((10000, 28*28))\n",
    "\n",
    "# reshape response variable\n",
    "train_labels = to_categorical(y_train)\n",
    "test_labels = to_categorical(y_test)"
   ]
  },
  {
   "cell_type": "code",
   "execution_count": 8,
   "id": "d7b232da",
   "metadata": {},
   "outputs": [
    {
     "data": {
      "text/plain": [
       "array([[0., 0., 0., 0., 0., 1., 0., 0., 0., 0.],\n",
       "       [1., 0., 0., 0., 0., 0., 0., 0., 0., 0.],\n",
       "       [0., 0., 0., 0., 1., 0., 0., 0., 0., 0.],\n",
       "       [0., 1., 0., 0., 0., 0., 0., 0., 0., 0.],\n",
       "       [0., 0., 0., 0., 0., 0., 0., 0., 0., 1.],\n",
       "       [0., 0., 1., 0., 0., 0., 0., 0., 0., 0.]], dtype=float32)"
      ]
     },
     "execution_count": 8,
     "metadata": {},
     "output_type": "execute_result"
    }
   ],
   "source": [
    "train_labels[0:6]"
   ]
  },
  {
   "cell_type": "markdown",
   "id": "3e8abffc-1752-443d-bbbe-03940a240563",
   "metadata": {},
   "source": [
    "### Stabilize learning by data scaling"
   ]
  },
  {
   "cell_type": "code",
   "execution_count": 9,
   "id": "803d9f01-656f-4d53-8616-48a9e6fee4b5",
   "metadata": {},
   "outputs": [],
   "source": [
    "# standardize train and test features\n",
    "train_images = train_images / 255\n",
    "test_images = test_images / 255"
   ]
  },
  {
   "cell_type": "markdown",
   "id": "20ee2735-8549-4608-a2d1-f78897817bd2",
   "metadata": {
    "tags": []
   },
   "source": [
    "### Randomize data"
   ]
  },
  {
   "cell_type": "code",
   "execution_count": 10,
   "id": "0cd52ba8-ca22-4008-b029-15648327a8a1",
   "metadata": {},
   "outputs": [],
   "source": [
    "random.seed(123)\n",
    "randomize = random.sample(range(0, x_train.shape[0]), x_train.shape[0])\n",
    "train_images = train_images[randomize]\n",
    "train_labels = train_labels[randomize]"
   ]
  },
  {
   "cell_type": "markdown",
   "id": "5d78060d-0586-4fc8-934b-a46ac6a64d1a",
   "metadata": {},
   "source": [
    "## Balance Batch Size & Default Learning Rate"
   ]
  },
  {
   "cell_type": "code",
   "execution_count": 16,
   "id": "914d6cc9-eee4-49b0-ac77-cd76f8f95a8e",
   "metadata": {},
   "outputs": [
    {
     "name": "stdout",
     "output_type": "stream",
     "text": [
      "Model: \"sequential_4\"\n",
      "_________________________________________________________________\n",
      " Layer (type)                Output Shape              Param #   \n",
      "=================================================================\n",
      " dense_10 (Dense)            (None, 512)               401920    \n",
      "                                                                 \n",
      " dense_11 (Dense)            (None, 10)                5130      \n",
      "                                                                 \n",
      "=================================================================\n",
      "Total params: 407,050\n",
      "Trainable params: 407,050\n",
      "Non-trainable params: 0\n",
      "_________________________________________________________________\n"
     ]
    }
   ],
   "source": [
    "# get number of features\n",
    "n_feat = train_images.shape[1]\n",
    "\n",
    "# 1. Define model architecture\n",
    "model = Sequential()\n",
    "model.add(Dense(units=2**9, input_dim=n_feat, activation = 'relu'))\n",
    "model.add(Dense(units=10, activation='softmax'))\n",
    "\n",
    "# 2. Define how our model is going to learn\n",
    "model.compile(loss='categorical_crossentropy', optimizer='sgd', metrics='accuracy')\n",
    "\n",
    "model.summary()"
   ]
  },
  {
   "cell_type": "code",
   "execution_count": 12,
   "id": "eaec4b13-980f-463d-8d9c-554db53a1989",
   "metadata": {},
   "outputs": [
    {
     "name": "stdout",
     "output_type": "stream",
     "text": [
      "Epoch 1/10\n"
     ]
    },
    {
     "name": "stderr",
     "output_type": "stream",
     "text": [
      "2022-11-21 13:42:43.883506: W tensorflow/core/platform/profile_utils/cpu_utils.cc:128] Failed to get CPU frequency: 0 Hz\n",
      "2022-11-21 13:42:44.039813: I tensorflow/core/grappler/optimizers/custom_graph_optimizer_registry.cc:113] Plugin optimizer for device_type GPU is enabled.\n"
     ]
    },
    {
     "name": "stdout",
     "output_type": "stream",
     "text": [
      "1499/1500 [============================>.] - ETA: 0s - loss: 0.6656 - accuracy: 0.8410"
     ]
    },
    {
     "name": "stderr",
     "output_type": "stream",
     "text": [
      "2022-11-21 13:42:58.759134: I tensorflow/core/grappler/optimizers/custom_graph_optimizer_registry.cc:113] Plugin optimizer for device_type GPU is enabled.\n"
     ]
    },
    {
     "name": "stdout",
     "output_type": "stream",
     "text": [
      "1500/1500 [==============================] - 18s 12ms/step - loss: 0.6657 - accuracy: 0.8410 - val_loss: 0.3807 - val_accuracy: 0.8968\n",
      "Epoch 2/10\n",
      "1500/1500 [==============================] - 16s 11ms/step - loss: 0.3451 - accuracy: 0.9053 - val_loss: 0.3059 - val_accuracy: 0.9151\n",
      "Epoch 3/10\n",
      "1500/1500 [==============================] - 16s 11ms/step - loss: 0.2938 - accuracy: 0.9177 - val_loss: 0.2717 - val_accuracy: 0.9230\n",
      "Epoch 4/10\n",
      "1500/1500 [==============================] - 16s 10ms/step - loss: 0.2631 - accuracy: 0.9270 - val_loss: 0.2471 - val_accuracy: 0.9303\n",
      "Epoch 5/10\n",
      "1500/1500 [==============================] - 16s 11ms/step - loss: 0.2400 - accuracy: 0.9333 - val_loss: 0.2285 - val_accuracy: 0.9346\n",
      "Epoch 6/10\n",
      "1500/1500 [==============================] - 17s 11ms/step - loss: 0.2212 - accuracy: 0.9396 - val_loss: 0.2166 - val_accuracy: 0.9382\n",
      "Epoch 7/10\n",
      "1500/1500 [==============================] - 16s 11ms/step - loss: 0.2051 - accuracy: 0.9432 - val_loss: 0.2006 - val_accuracy: 0.9417\n",
      "Epoch 8/10\n",
      "1500/1500 [==============================] - 16s 11ms/step - loss: 0.1914 - accuracy: 0.9474 - val_loss: 0.1890 - val_accuracy: 0.9466\n",
      "Epoch 9/10\n",
      "1500/1500 [==============================] - 17s 11ms/step - loss: 0.1797 - accuracy: 0.9508 - val_loss: 0.1798 - val_accuracy: 0.9486\n",
      "Epoch 10/10\n",
      "1500/1500 [==============================] - 16s 11ms/step - loss: 0.1691 - accuracy: 0.9534 - val_loss: 0.1733 - val_accuracy: 0.9505\n"
     ]
    }
   ],
   "source": [
    "# fit the model\n",
    "history = model.fit(train_images, train_labels, batch_size=32, epochs=10, validation_split=0.2)"
   ]
  },
  {
   "cell_type": "code",
   "execution_count": null,
   "id": "951322fc",
   "metadata": {},
   "outputs": [],
   "source": [
    "history.history"
   ]
  },
  {
   "cell_type": "code",
   "execution_count": null,
   "id": "7533b9ec-2a89-4a3d-829a-5f20d38c1d54",
   "metadata": {},
   "outputs": [
    {
     "data": {
      "text/plain": [
       "<AxesSubplot:>"
      ]
     },
     "execution_count": 11,
     "metadata": {},
     "output_type": "execute_result"
    },
    {
     "data": {
      "image/png": "[encoded data removed]",
      "text/plain": [
       "<Figure size 720x432 with 1 Axes>"
      ]
     },
     "metadata": {
      "needs_background": "light"
     },
     "output_type": "display_data"
    }
   ],
   "source": [
    "pd.DataFrame(history.history).plot(figsize=(10,6))"
   ]
  },
  {
   "cell_type": "markdown",
   "id": "0a33f345-c786-432f-ad31-6fa40d809c6f",
   "metadata": {
    "tags": []
   },
   "source": [
    "## Pick an Adaptive Learning Rate Optimizer"
   ]
  },
  {
   "cell_type": "code",
   "execution_count": null,
   "id": "5f1cd82a-6673-4c15-9b8b-40b9b9b95682",
   "metadata": {},
   "outputs": [
    {
     "name": "stdout",
     "output_type": "stream",
     "text": [
      "Epoch 1/10\n",
      "1500/1500 [==============================] - 7s 4ms/step - loss: 0.2202 - accuracy: 0.9345 - val_loss: 0.1198 - val_accuracy: 0.9635\n",
      "Epoch 2/10\n",
      "1500/1500 [==============================] - 7s 4ms/step - loss: 0.0972 - accuracy: 0.9721 - val_loss: 0.0985 - val_accuracy: 0.9722\n",
      "Epoch 3/10\n",
      "1500/1500 [==============================] - 7s 4ms/step - loss: 0.0669 - accuracy: 0.9803 - val_loss: 0.0974 - val_accuracy: 0.9743\n",
      "Epoch 4/10\n",
      "1500/1500 [==============================] - 8s 5ms/step - loss: 0.0524 - accuracy: 0.9851 - val_loss: 0.0994 - val_accuracy: 0.9740\n",
      "Epoch 5/10\n",
      "1500/1500 [==============================] - 8s 5ms/step - loss: 0.0416 - accuracy: 0.9886 - val_loss: 0.1066 - val_accuracy: 0.9741\n",
      "Epoch 6/10\n",
      "1500/1500 [==============================] - 8s 5ms/step - loss: 0.0325 - accuracy: 0.9910 - val_loss: 0.1127 - val_accuracy: 0.9760\n",
      "Epoch 7/10\n",
      "1500/1500 [==============================] - 7s 5ms/step - loss: 0.0259 - accuracy: 0.9928 - val_loss: 0.1330 - val_accuracy: 0.9721\n",
      "Epoch 8/10\n",
      "1500/1500 [==============================] - 7s 5ms/step - loss: 0.0212 - accuracy: 0.9940 - val_loss: 0.1202 - val_accuracy: 0.9762\n",
      "Epoch 9/10\n",
      "1500/1500 [==============================] - 7s 5ms/step - loss: 0.0159 - accuracy: 0.9951 - val_loss: 0.1222 - val_accuracy: 0.9773\n",
      "Epoch 10/10\n",
      "1500/1500 [==============================] - 7s 5ms/step - loss: 0.0141 - accuracy: 0.9960 - val_loss: 0.1345 - val_accuracy: 0.9766\n"
     ]
    }
   ],
   "source": [
    "# 1. Define model architecture\n",
    "model = Sequential()\n",
    "model.add(Dense(units=512, input_dim=n_feat, activation = 'relu'))\n",
    "model.add(Dense(units=10, activation='softmax'))\n",
    "\n",
    "# 2. Define how our model is going to learn --> using RMSprop\n",
    "model.compile(loss='categorical_crossentropy', optimizer='rmsprop', metrics='accuracy')\n",
    "\n",
    "# fit the model\n",
    "history = model.fit(train_images, train_labels, batch_size=32, epochs=10, validation_split=0.2)"
   ]
  },
  {
   "cell_type": "code",
   "execution_count": null,
   "id": "9c2e5c4c-fafe-45ae-9dba-c62b5f6d2716",
   "metadata": {},
   "outputs": [
    {
     "data": {
      "text/plain": [
       "<AxesSubplot:>"
      ]
     },
     "execution_count": 13,
     "metadata": {},
     "output_type": "execute_result"
    },
    {
     "data": {
      "image/png": "[encoded data removed]",
      "text/plain": [
       "<Figure size 720x432 with 1 Axes>"
      ]
     },
     "metadata": {
      "needs_background": "light"
     },
     "output_type": "display_data"
    }
   ],
   "source": [
    "pd.DataFrame(history.history).plot(figsize=(10,6))"
   ]
  },
  {
   "cell_type": "markdown",
   "id": "befebdd4-5a61-45af-be22-02f67bb89d55",
   "metadata": {
    "tags": []
   },
   "source": [
    "## Add Callbacks\n",
    "\n",
    "### Stop training at the right time"
   ]
  },
  {
   "cell_type": "code",
   "execution_count": 13,
   "id": "76cac0c6-93f8-46ec-b916-e496321388aa",
   "metadata": {},
   "outputs": [
    {
     "name": "stdout",
     "output_type": "stream",
     "text": [
      "Epoch 1/20\n"
     ]
    },
    {
     "name": "stderr",
     "output_type": "stream",
     "text": [
      "2022-11-21 13:46:26.063152: I tensorflow/core/grappler/optimizers/custom_graph_optimizer_registry.cc:113] Plugin optimizer for device_type GPU is enabled.\n"
     ]
    },
    {
     "name": "stdout",
     "output_type": "stream",
     "text": [
      "1499/1500 [============================>.] - ETA: 0s - loss: 0.2202 - accuracy: 0.9346"
     ]
    },
    {
     "name": "stderr",
     "output_type": "stream",
     "text": [
      "2022-11-21 13:46:42.568058: I tensorflow/core/grappler/optimizers/custom_graph_optimizer_registry.cc:113] Plugin optimizer for device_type GPU is enabled.\n"
     ]
    },
    {
     "name": "stdout",
     "output_type": "stream",
     "text": [
      "1500/1500 [==============================] - 20s 13ms/step - loss: 0.2202 - accuracy: 0.9346 - val_loss: 0.1282 - val_accuracy: 0.9613\n",
      "Epoch 2/20\n",
      "1500/1500 [==============================] - 19s 13ms/step - loss: 0.0952 - accuracy: 0.9726 - val_loss: 0.0985 - val_accuracy: 0.9711\n",
      "Epoch 3/20\n",
      "1500/1500 [==============================] - 19s 13ms/step - loss: 0.0665 - accuracy: 0.9807 - val_loss: 0.0978 - val_accuracy: 0.9735\n",
      "Epoch 4/20\n",
      "1500/1500 [==============================] - 19s 13ms/step - loss: 0.0517 - accuracy: 0.9852 - val_loss: 0.1028 - val_accuracy: 0.9757\n",
      "Epoch 5/20\n",
      "1500/1500 [==============================] - 19s 13ms/step - loss: 0.0416 - accuracy: 0.9881 - val_loss: 0.1032 - val_accuracy: 0.9768\n",
      "Epoch 6/20\n",
      "1500/1500 [==============================] - 19s 13ms/step - loss: 0.0306 - accuracy: 0.9912 - val_loss: 0.1162 - val_accuracy: 0.9746\n"
     ]
    }
   ],
   "source": [
    "# 1. Define model architecture\n",
    "model = Sequential()\n",
    "model.add(Dense(units=512, input_dim=n_feat, activation = 'relu'))\n",
    "model.add(Dense(units=10, activation='softmax'))\n",
    "\n",
    "# 2. Define how our model is going to learn --> using RMSprop\n",
    "model.compile(loss='categorical_crossentropy', optimizer='rmsprop', metrics='accuracy')\n",
    "\n",
    "# fit the model and include early stopping\n",
    "history = model.fit(\n",
    "    train_images, \n",
    "    train_labels, \n",
    "    batch_size=32, \n",
    "    epochs=20, \n",
    "    validation_split=0.2,\n",
    "    callbacks=EarlyStopping(patience=3, min_delta=0.0001, restore_best_weights=True)\n",
    ")"
   ]
  },
  {
   "cell_type": "markdown",
   "id": "1e317d98-6feb-4c88-9031-335bcb52925d",
   "metadata": {},
   "source": [
    "### Add a learning rate scheduler"
   ]
  },
  {
   "cell_type": "code",
   "execution_count": null,
   "id": "b9afe464-3253-439c-919d-4b3d1d9d48d9",
   "metadata": {},
   "outputs": [
    {
     "name": "stdout",
     "output_type": "stream",
     "text": [
      "Epoch 1/20\n",
      "1500/1500 [==============================] - 8s 5ms/step - loss: 0.2248 - accuracy: 0.9337 - val_loss: 0.1297 - val_accuracy: 0.9595\n",
      "Epoch 2/20\n",
      "1500/1500 [==============================] - 7s 5ms/step - loss: 0.0969 - accuracy: 0.9715 - val_loss: 0.1055 - val_accuracy: 0.9706\n",
      "Epoch 3/20\n",
      "1500/1500 [==============================] - 7s 5ms/step - loss: 0.0685 - accuracy: 0.9806 - val_loss: 0.0931 - val_accuracy: 0.9754\n",
      "Epoch 4/20\n",
      "1500/1500 [==============================] - 7s 5ms/step - loss: 0.0535 - accuracy: 0.9846 - val_loss: 0.0963 - val_accuracy: 0.9759\n",
      "Epoch 5/20\n",
      "1500/1500 [==============================] - 7s 5ms/step - loss: 0.0233 - accuracy: 0.9939 - val_loss: 0.0838 - val_accuracy: 0.9793\n",
      "Epoch 6/20\n",
      "1500/1500 [==============================] - 7s 5ms/step - loss: 0.0191 - accuracy: 0.9951 - val_loss: 0.0844 - val_accuracy: 0.9790\n",
      "Epoch 7/20\n",
      "1500/1500 [==============================] - 7s 5ms/step - loss: 0.0166 - accuracy: 0.9962 - val_loss: 0.0835 - val_accuracy: 0.9791\n",
      "Epoch 8/20\n",
      "1500/1500 [==============================] - 7s 5ms/step - loss: 0.0162 - accuracy: 0.9962 - val_loss: 0.0837 - val_accuracy: 0.9792\n",
      "Epoch 9/20\n",
      "1500/1500 [==============================] - 7s 5ms/step - loss: 0.0159 - accuracy: 0.9964 - val_loss: 0.0837 - val_accuracy: 0.9793\n",
      "Epoch 10/20\n",
      "1500/1500 [==============================] - 7s 5ms/step - loss: 0.0159 - accuracy: 0.9964 - val_loss: 0.0837 - val_accuracy: 0.9793\n"
     ]
    }
   ],
   "source": [
    "# 1. Define model architecture\n",
    "model = Sequential()\n",
    "model.add(Dense(units=512, input_dim=n_feat, activation = 'relu'))\n",
    "model.add(Dense(units=10, activation='softmax'))\n",
    "\n",
    "# 2. Define how our model is going to learn --> using RMSprop\n",
    "model.compile(loss='categorical_crossentropy', optimizer='rmsprop', metrics='accuracy')\n",
    "\n",
    "# fit the model and include early stopping and learning rate reductions\n",
    "history = model.fit(\n",
    "    train_images, \n",
    "    train_labels, \n",
    "    batch_size=32, \n",
    "    epochs=20, \n",
    "    validation_split=0.2,\n",
    "    callbacks=[\n",
    "        EarlyStopping(patience=3, min_delta=0.0001, restore_best_weights=True),\n",
    "        ReduceLROnPlateau(patience=1, factor=0.1)\n",
    "    ]\n",
    ")"
   ]
  },
  {
   "cell_type": "code",
   "execution_count": null,
   "id": "23ab6004-69f7-459c-9957-c895b16caf29",
   "metadata": {},
   "outputs": [
    {
     "data": {
      "text/plain": [
       "[0.001,\n",
       " 0.001,\n",
       " 0.001,\n",
       " 0.001,\n",
       " 0.000100000005,\n",
       " 0.000100000005,\n",
       " 1.0000001e-05,\n",
       " 1.0000001e-05,\n",
       " 1.0000001e-06,\n",
       " 1.0000001e-07]"
      ]
     },
     "execution_count": 16,
     "metadata": {},
     "output_type": "execute_result"
    }
   ],
   "source": [
    "# progression of learning rate over the above epochs\n",
    "history.history['lr']"
   ]
  },
  {
   "cell_type": "markdown",
   "id": "84988b10-ae41-453e-afa0-81633bcc1c3e",
   "metadata": {},
   "source": [
    "## Explore Model Capacity"
   ]
  },
  {
   "cell_type": "code",
   "execution_count": 17,
   "id": "3ae4fce0-7d5f-444d-9cc1-032a6df3aed4",
   "metadata": {},
   "outputs": [],
   "source": [
    "def train_model(n_units, n_layers=1):\n",
    "    \n",
    "    \n",
    "    # Create a model with a single hidden input layer\n",
    "    model = Sequential()\n",
    "    model.add(Dense(units=n_units, input_dim=n_feat, activation = 'relu'))\n",
    "    \n",
    "    # Add additional hidden layers based on input\n",
    "    if n_layers > 1:\n",
    "        for layer in range(n_layers):\n",
    "            model.add(Dense(units=n_units, input_dim=n_feat, activation = 'relu'))\n",
    "    \n",
    "    # Add final output layer\n",
    "    model.add(Dense(units=10, activation='softmax'))\n",
    "    \n",
    "    # compile model\n",
    "    model.compile(\n",
    "        loss='categorical_crossentropy', \n",
    "        optimizer=SGD(learning_rate=0.01, momentum=0.5), \n",
    "        metrics='accuracy'\n",
    "    )\n",
    "    \n",
    "    # train model\n",
    "    history = model.fit(\n",
    "        train_images, \n",
    "        train_labels, \n",
    "        batch_size=32, \n",
    "        epochs=20, \n",
    "        validation_split=0.2,\n",
    "        callbacks=[\n",
    "            EarlyStopping(patience=3, min_delta=0.0001, restore_best_weights=True),\n",
    "            ReduceLROnPlateau(patience=1, factor=0.1)\n",
    "        ],\n",
    "        verbose=False\n",
    "    )\n",
    "    \n",
    "    return history   "
   ]
  },
  {
   "cell_type": "code",
   "execution_count": 18,
   "id": "975e7aa6-d47d-4c32-a06e-d58163248bad",
   "metadata": {
    "tags": []
   },
   "outputs": [
    {
     "name": "stderr",
     "output_type": "stream",
     "text": [
      "2022-11-21 13:59:21.379032: I tensorflow/core/grappler/optimizers/custom_graph_optimizer_registry.cc:113] Plugin optimizer for device_type GPU is enabled.\n",
      "2022-11-21 13:59:34.199496: I tensorflow/core/grappler/optimizers/custom_graph_optimizer_registry.cc:113] Plugin optimizer for device_type GPU is enabled.\n"
     ]
    }
   ],
   "source": [
    "# train model with 2 layers and 128 units in each layer\n",
    "example_model = train_model(n_units=128, n_layers=2)"
   ]
  },
  {
   "cell_type": "code",
   "execution_count": null,
   "id": "6dfb7412-0aaf-4766-af92-6378c3bb4677",
   "metadata": {},
   "outputs": [],
   "source": [
    "def get_results(model_history):\n",
    "    min_val_loss = min(model_history.history['val_loss'])\n",
    "    min_val_loss_idx = model_history.history['val_loss'].index(min_val_loss)\n",
    "    related_acc = model_history.history['val_accuracy'][min_val_loss_idx]\n",
    "    return f'val_loss: {round(min_val_loss, 3)}, val_acc: {round(related_acc, 3)}'"
   ]
  },
  {
   "cell_type": "code",
   "execution_count": null,
   "id": "428bfe2d-92b8-444e-af1e-6e3b6883e104",
   "metadata": {},
   "outputs": [
    {
     "data": {
      "text/plain": [
       "'val_loss: 0.101, val_acc: 0.968'"
      ]
     },
     "execution_count": 20,
     "metadata": {},
     "output_type": "execute_result"
    }
   ],
   "source": [
    "get_results(example_model)"
   ]
  },
  {
   "cell_type": "code",
   "execution_count": null,
   "id": "d8de3bf1-b3cf-4ff7-83f5-e85911734265",
   "metadata": {},
   "outputs": [
    {
     "data": {
      "text/html": [
       "<div>\n",
       "<style scoped>\n",
       "    .dataframe tbody tr th:only-of-type {\n",
       "        vertical-align: middle;\n",
       "    }\n",
       "\n",
       "    .dataframe tbody tr th {\n",
       "        vertical-align: top;\n",
       "    }\n",
       "\n",
       "    .dataframe thead th {\n",
       "        text-align: right;\n",
       "    }\n",
       "</style>\n",
       "<table border=\"1\" class=\"dataframe\">\n",
       "  <thead>\n",
       "    <tr style=\"text-align: right;\">\n",
       "      <th></th>\n",
       "      <th>units</th>\n",
       "      <th>layers</th>\n",
       "      <th>id</th>\n",
       "    </tr>\n",
       "  </thead>\n",
       "  <tbody>\n",
       "    <tr>\n",
       "      <th>0</th>\n",
       "      <td>128</td>\n",
       "      <td>1</td>\n",
       "      <td>mlp_1_layers_128_units</td>\n",
       "    </tr>\n",
       "    <tr>\n",
       "      <th>1</th>\n",
       "      <td>128</td>\n",
       "      <td>2</td>\n",
       "      <td>mlp_2_layers_128_units</td>\n",
       "    </tr>\n",
       "    <tr>\n",
       "      <th>2</th>\n",
       "      <td>128</td>\n",
       "      <td>3</td>\n",
       "      <td>mlp_3_layers_128_units</td>\n",
       "    </tr>\n",
       "    <tr>\n",
       "      <th>3</th>\n",
       "      <td>256</td>\n",
       "      <td>1</td>\n",
       "      <td>mlp_1_layers_256_units</td>\n",
       "    </tr>\n",
       "    <tr>\n",
       "      <th>4</th>\n",
       "      <td>256</td>\n",
       "      <td>2</td>\n",
       "      <td>mlp_2_layers_256_units</td>\n",
       "    </tr>\n",
       "    <tr>\n",
       "      <th>5</th>\n",
       "      <td>256</td>\n",
       "      <td>3</td>\n",
       "      <td>mlp_3_layers_256_units</td>\n",
       "    </tr>\n",
       "    <tr>\n",
       "      <th>6</th>\n",
       "      <td>512</td>\n",
       "      <td>1</td>\n",
       "      <td>mlp_1_layers_512_units</td>\n",
       "    </tr>\n",
       "    <tr>\n",
       "      <th>7</th>\n",
       "      <td>512</td>\n",
       "      <td>2</td>\n",
       "      <td>mlp_2_layers_512_units</td>\n",
       "    </tr>\n",
       "    <tr>\n",
       "      <th>8</th>\n",
       "      <td>512</td>\n",
       "      <td>3</td>\n",
       "      <td>mlp_3_layers_512_units</td>\n",
       "    </tr>\n",
       "    <tr>\n",
       "      <th>9</th>\n",
       "      <td>1024</td>\n",
       "      <td>1</td>\n",
       "      <td>mlp_1_layers_1024_units</td>\n",
       "    </tr>\n",
       "    <tr>\n",
       "      <th>10</th>\n",
       "      <td>1024</td>\n",
       "      <td>2</td>\n",
       "      <td>mlp_2_layers_1024_units</td>\n",
       "    </tr>\n",
       "    <tr>\n",
       "      <th>11</th>\n",
       "      <td>1024</td>\n",
       "      <td>3</td>\n",
       "      <td>mlp_3_layers_1024_units</td>\n",
       "    </tr>\n",
       "  </tbody>\n",
       "</table>\n",
       "</div>"
      ],
      "text/plain": [
       "    units  layers                       id\n",
       "0     128       1   mlp_1_layers_128_units\n",
       "1     128       2   mlp_2_layers_128_units\n",
       "2     128       3   mlp_3_layers_128_units\n",
       "3     256       1   mlp_1_layers_256_units\n",
       "4     256       2   mlp_2_layers_256_units\n",
       "5     256       3   mlp_3_layers_256_units\n",
       "6     512       1   mlp_1_layers_512_units\n",
       "7     512       2   mlp_2_layers_512_units\n",
       "8     512       3   mlp_3_layers_512_units\n",
       "9    1024       1  mlp_1_layers_1024_units\n",
       "10   1024       2  mlp_2_layers_1024_units\n",
       "11   1024       3  mlp_3_layers_1024_units"
      ]
     },
     "execution_count": 21,
     "metadata": {},
     "output_type": "execute_result"
    }
   ],
   "source": [
    "grid = pd.DataFrame({\n",
    "    'units': np.repeat([128, 256, 512, 1024], 3),\n",
    "    'layers': np.tile(np.array([1, 2, 3]), 4)\n",
    "})\n",
    "\n",
    "def create_id(units, layers):\n",
    "    return f\"mlp_{layers}_layers_{units}_units\"\n",
    "\n",
    "grid['id'] = [create_id(units, layers) for units, layers in zip(grid['units'], grid['layers'])]\n",
    "grid"
   ]
  },
  {
   "cell_type": "code",
   "execution_count": null,
   "id": "911268dc-f0c3-4575-8b87-47007f812acb",
   "metadata": {
    "tags": []
   },
   "outputs": [
    {
     "name": "stdout",
     "output_type": "stream",
     "text": [
      "mlp_1_layers_128_units: val_loss: 0.099, val_acc: 0.97\n",
      "mlp_2_layers_128_units: val_loss: 0.097, val_acc: 0.97\n",
      "mlp_3_layers_128_units: val_loss: 0.085, val_acc: 0.973\n",
      "mlp_1_layers_256_units: val_loss: 0.097, val_acc: 0.971\n",
      "mlp_2_layers_256_units: val_loss: 0.087, val_acc: 0.973\n",
      "mlp_3_layers_256_units: val_loss: 0.086, val_acc: 0.974\n",
      "mlp_1_layers_512_units: val_loss: 0.092, val_acc: 0.972\n",
      "mlp_2_layers_512_units: val_loss: 0.078, val_acc: 0.976\n",
      "mlp_3_layers_512_units: val_loss: 0.08, val_acc: 0.977\n",
      "mlp_1_layers_1024_units: val_loss: 0.091, val_acc: 0.973\n",
      "mlp_2_layers_1024_units: val_loss: 0.077, val_acc: 0.977\n",
      "mlp_3_layers_1024_units: val_loss: 0.076, val_acc: 0.976\n"
     ]
    }
   ],
   "source": [
    "for row, items in grid.iterrows():\n",
    "    history = train_model(n_units=items['units'], n_layers=items['layers'])\n",
    "    results = get_results(history)\n",
    "    print(f\"{items['id']}: {results}\")"
   ]
  },
  {
   "cell_type": "markdown",
   "id": "89501080-6cb8-4488-8079-d5547e544e6f",
   "metadata": {},
   "source": [
    "## Regularize Overfitting\n",
    "\n",
    "### Weight decay"
   ]
  },
  {
   "cell_type": "code",
   "execution_count": null,
   "id": "b9ffdbed-29c2-44ba-b8da-60e4e0202a52",
   "metadata": {},
   "outputs": [
    {
     "name": "stdout",
     "output_type": "stream",
     "text": [
      "Epoch 1/20\n",
      "1500/1500 [==============================] - 12s 8ms/step - loss: 0.4995 - accuracy: 0.9263 - val_loss: 0.2810 - val_accuracy: 0.9533\n",
      "Epoch 2/20\n",
      "1500/1500 [==============================] - 12s 8ms/step - loss: 0.2381 - accuracy: 0.9565 - val_loss: 0.2158 - val_accuracy: 0.9583\n",
      "Epoch 3/20\n",
      "1500/1500 [==============================] - 11s 8ms/step - loss: 0.2001 - accuracy: 0.9618 - val_loss: 0.1934 - val_accuracy: 0.9609\n",
      "Epoch 4/20\n",
      "1500/1500 [==============================] - 11s 7ms/step - loss: 0.1815 - accuracy: 0.9658 - val_loss: 0.1861 - val_accuracy: 0.9622\n",
      "Epoch 5/20\n",
      "1500/1500 [==============================] - 11s 7ms/step - loss: 0.1714 - accuracy: 0.9667 - val_loss: 0.1750 - val_accuracy: 0.9643\n",
      "Epoch 6/20\n",
      "1500/1500 [==============================] - 12s 8ms/step - loss: 0.1618 - accuracy: 0.9691 - val_loss: 0.2202 - val_accuracy: 0.9503\n",
      "Epoch 7/20\n",
      "1500/1500 [==============================] - 12s 8ms/step - loss: 0.1602 - accuracy: 0.9680 - val_loss: 0.1717 - val_accuracy: 0.9676\n",
      "Epoch 8/20\n",
      "1500/1500 [==============================] - 12s 8ms/step - loss: 0.1586 - accuracy: 0.9690 - val_loss: 0.1603 - val_accuracy: 0.9687\n",
      "Epoch 9/20\n",
      "1500/1500 [==============================] - 11s 8ms/step - loss: 0.1547 - accuracy: 0.9696 - val_loss: 0.1688 - val_accuracy: 0.9666\n",
      "Epoch 10/20\n",
      "1500/1500 [==============================] - 11s 8ms/step - loss: 0.1537 - accuracy: 0.9704 - val_loss: 0.1704 - val_accuracy: 0.9640\n",
      "Epoch 11/20\n",
      "1500/1500 [==============================] - 12s 8ms/step - loss: 0.1531 - accuracy: 0.9700 - val_loss: 0.1784 - val_accuracy: 0.9637\n"
     ]
    }
   ],
   "source": [
    "# 1. Define model architecture with L2 weight decay\n",
    "model = Sequential()\n",
    "model.add(Dense(\n",
    "    units=512, \n",
    "    input_dim=n_feat, \n",
    "    activation = 'relu', \n",
    "    kernel_regularizer=regularizers.l2(0.001)\n",
    "))\n",
    "model.add(Dense(\n",
    "    units=512, \n",
    "    activation = 'relu', \n",
    "    kernel_regularizer=regularizers.l2(0.001)\n",
    "))\n",
    "model.add(Dense(units=10, activation='softmax'))\n",
    "\n",
    "# 2. Define how our model is going to learn --> using RMSprop\n",
    "model.compile(\n",
    "    loss='categorical_crossentropy', \n",
    "    optimizer='rmsprop',\n",
    "    metrics='accuracy'\n",
    ")\n",
    "\n",
    "# fit the model and include early stopping\n",
    "history = model.fit(\n",
    "    train_images, \n",
    "    train_labels, \n",
    "    batch_size=32, \n",
    "    epochs=20, \n",
    "    validation_split=0.2,\n",
    "    callbacks=EarlyStopping(patience=3, min_delta=0.0001, restore_best_weights=True)\n",
    ")"
   ]
  },
  {
   "cell_type": "markdown",
   "id": "971bef6a-445d-402e-8a06-242dacb9e228",
   "metadata": {},
   "source": [
    "### Dropout"
   ]
  },
  {
   "cell_type": "code",
   "execution_count": 19,
   "id": "a05f15b0-08d2-49f6-8d8d-ca6e83dd69c4",
   "metadata": {},
   "outputs": [
    {
     "name": "stdout",
     "output_type": "stream",
     "text": [
      "Epoch 1/20\n"
     ]
    },
    {
     "name": "stderr",
     "output_type": "stream",
     "text": [
      "2022-11-21 14:57:21.524820: I tensorflow/core/grappler/optimizers/custom_graph_optimizer_registry.cc:113] Plugin optimizer for device_type GPU is enabled.\n"
     ]
    },
    {
     "name": "stdout",
     "output_type": "stream",
     "text": [
      "1498/1500 [============================>.] - ETA: 0s - loss: 0.2521 - accuracy: 0.9248"
     ]
    },
    {
     "name": "stderr",
     "output_type": "stream",
     "text": [
      "2022-11-21 14:57:42.011984: I tensorflow/core/grappler/optimizers/custom_graph_optimizer_registry.cc:113] Plugin optimizer for device_type GPU is enabled.\n"
     ]
    },
    {
     "name": "stdout",
     "output_type": "stream",
     "text": [
      "1500/1500 [==============================] - 24s 16ms/step - loss: 0.2520 - accuracy: 0.9248 - val_loss: 0.1535 - val_accuracy: 0.9572\n",
      "Epoch 2/20\n",
      "1500/1500 [==============================] - 22s 15ms/step - loss: 0.1450 - accuracy: 0.9624 - val_loss: 0.1442 - val_accuracy: 0.9658\n",
      "Epoch 3/20\n",
      "1500/1500 [==============================] - 24s 16ms/step - loss: 0.1274 - accuracy: 0.9706 - val_loss: 0.1414 - val_accuracy: 0.9712\n",
      "Epoch 4/20\n",
      "1500/1500 [==============================] - 23s 15ms/step - loss: 0.1207 - accuracy: 0.9735 - val_loss: 0.1726 - val_accuracy: 0.9709\n",
      "Epoch 5/20\n",
      "1500/1500 [==============================] - 23s 15ms/step - loss: 0.1188 - accuracy: 0.9760 - val_loss: 0.1881 - val_accuracy: 0.9718\n",
      "Epoch 6/20\n",
      "1500/1500 [==============================] - 23s 15ms/step - loss: 0.1110 - accuracy: 0.9776 - val_loss: 0.2133 - val_accuracy: 0.9712\n"
     ]
    }
   ],
   "source": [
    "# 1. Define model architecture with dropout layers\n",
    "model = Sequential()\n",
    "model.add(Dense(units=512, input_dim=n_feat, activation = 'relu'))\n",
    "model.add(Dropout(rate=0.3))\n",
    "model.add(Dense(units=512, activation = 'relu'))\n",
    "model.add(Dropout(rate=0.3))\n",
    "model.add(Dense(units=10, activation='softmax'))\n",
    "\n",
    "# 2. Define how our model is going to learn --> using RMSprop\n",
    "model.compile(\n",
    "    loss='categorical_crossentropy', \n",
    "    optimizer='rmsprop',\n",
    "    metrics='accuracy'\n",
    ")\n",
    "\n",
    "# fit the model and include early stopping\n",
    "history = model.fit(\n",
    "    train_images, \n",
    "    train_labels, \n",
    "    batch_size=32, \n",
    "    epochs=20, \n",
    "    validation_split=0.2,\n",
    "    callbacks=EarlyStopping(patience=3, min_delta=0.0001, restore_best_weights=True)\n",
    ")"
   ]
  },
  {
   "cell_type": "markdown",
   "id": "46545e90-2865-481b-81e3-d67a7533cb0e",
   "metadata": {},
   "source": [
    "## Evaluate results"
   ]
  },
  {
   "cell_type": "code",
   "execution_count": 20,
   "id": "f17524e7-5f22-4e03-809d-d5f1f0817496",
   "metadata": {},
   "outputs": [
    {
     "name": "stdout",
     "output_type": "stream",
     "text": [
      " 11/313 [>.............................] - ETA: 3s - loss: 0.1620 - accuracy: 0.9716"
     ]
    },
    {
     "name": "stderr",
     "output_type": "stream",
     "text": [
      "2022-11-21 14:59:41.235233: I tensorflow/core/grappler/optimizers/custom_graph_optimizer_registry.cc:113] Plugin optimizer for device_type GPU is enabled.\n"
     ]
    },
    {
     "name": "stdout",
     "output_type": "stream",
     "text": [
      "313/313 [==============================] - 3s 10ms/step - loss: 0.1420 - accuracy: 0.9727\n"
     ]
    },
    {
     "data": {
      "text/plain": [
       "[0.14204227924346924, 0.9727000594139099]"
      ]
     },
     "execution_count": 20,
     "metadata": {},
     "output_type": "execute_result"
    }
   ],
   "source": [
    "model.evaluate(test_images, test_labels)"
   ]
  },
  {
   "cell_type": "markdown",
   "id": "15382818-9a24-4f3d-8939-6e583557a6d0",
   "metadata": {},
   "source": [
    "### Confusion matrix"
   ]
  },
  {
   "cell_type": "code",
   "execution_count": 21,
   "id": "e3e50e3c-e747-4994-bf07-72406120c1ea",
   "metadata": {},
   "outputs": [
    {
     "name": "stdout",
     "output_type": "stream",
     "text": [
      " 50/313 [===>..........................] - ETA: 0s"
     ]
    },
    {
     "name": "stderr",
     "output_type": "stream",
     "text": [
      "2022-11-21 15:01:18.951083: I tensorflow/core/grappler/optimizers/custom_graph_optimizer_registry.cc:113] Plugin optimizer for device_type GPU is enabled.\n"
     ]
    },
    {
     "name": "stdout",
     "output_type": "stream",
     "text": [
      "313/313 [==============================] - 1s 3ms/step\n"
     ]
    },
    {
     "data": {
      "text/plain": [
       "array([7, 2, 1, ..., 4, 5, 6])"
      ]
     },
     "execution_count": 21,
     "metadata": {},
     "output_type": "execute_result"
    }
   ],
   "source": [
    "predictions = model.predict(test_images)\n",
    "pred_values = np.argmax(predictions, axis=1)\n",
    "pred_values"
   ]
  },
  {
   "cell_type": "code",
   "execution_count": 22,
   "id": "c49d4fea-d387-45f4-b423-fd680a2518ac",
   "metadata": {},
   "outputs": [
    {
     "data": {
      "text/plain": [
       "array([7, 2, 1, ..., 4, 5, 6], dtype=uint8)"
      ]
     },
     "execution_count": 22,
     "metadata": {},
     "output_type": "execute_result"
    }
   ],
   "source": [
    "actual_values = y_test\n",
    "actual_values"
   ]
  },
  {
   "cell_type": "code",
   "execution_count": 23,
   "id": "6dfc1c3b-2636-4cf9-9471-5edb48b7b9b6",
   "metadata": {},
   "outputs": [
    {
     "data": {
      "text/plain": [
       "array([[ 972,    1,    1,    0,    0,    1,    4,    1,    0,    0],\n",
       "       [   0, 1130,    1,    0,    0,    1,    2,    0,    1,    0],\n",
       "       [   7,    4, 1003,    4,    0,    0,    4,    7,    3,    0],\n",
       "       [   0,    0,    4,  980,    0,   15,    0,    6,    4,    1],\n",
       "       [   4,    5,    3,    0,  940,    0,   11,    3,    2,   14],\n",
       "       [   4,    0,    0,    7,    1,  867,   10,    2,    1,    0],\n",
       "       [   6,    3,    0,    0,    2,    3,  942,    0,    2,    0],\n",
       "       [   2,    8,    8,    3,    0,    0,    0, 1004,    0,    3],\n",
       "       [  12,    1,    5,    6,    4,    5,    9,    3,  925,    4],\n",
       "       [   8,    9,    1,    7,    3,    5,    1,    8,    3,  964]])"
      ]
     },
     "execution_count": 23,
     "metadata": {},
     "output_type": "execute_result"
    }
   ],
   "source": [
    "cm = confusion_matrix(actual_values, pred_values)\n",
    "cm"
   ]
  },
  {
   "cell_type": "code",
   "execution_count": 24,
   "id": "1fc36bc6-e8e1-4c40-a710-8b3a080cde46",
   "metadata": {},
   "outputs": [
    {
     "data": {
      "image/png": "[encoded data removed]",
      "text/plain": [
       "<Figure size 432x288 with 2 Axes>"
      ]
     },
     "metadata": {
      "needs_background": "light"
     },
     "output_type": "display_data"
    }
   ],
   "source": [
    "disp = ConfusionMatrixDisplay(confusion_matrix=cm)\n",
    "disp.plot(cmap=plt.cm.Blues)\n",
    "plt.show()"
   ]
  },
  {
   "cell_type": "markdown",
   "id": "0bfbd10c-e2a9-489b-ab07-9bfb149f8d77",
   "metadata": {},
   "source": [
    "### Visualize missed predictions"
   ]
  },
  {
   "cell_type": "code",
   "execution_count": 25,
   "id": "83ddbe2e-2525-4b44-a17a-eb97c8e27a57",
   "metadata": {},
   "outputs": [],
   "source": [
    "missed_features = x_test[pred_values != actual_values]\n",
    "missed_labels = pred_values[pred_values != actual_values]"
   ]
  },
  {
   "cell_type": "code",
   "execution_count": 26,
   "id": "87c5236e-595d-4132-be1c-71b5c8f23d79",
   "metadata": {},
   "outputs": [
    {
     "data": {
      "image/png": "[encoded data removed]",
      "text/plain": [
       "<Figure size 160x160 with 1 Axes>"
      ]
     },
     "metadata": {
      "needs_background": "light"
     },
     "output_type": "display_data"
    },
    {
     "data": {
      "image/png": "[encoded data removed]",
      "text/plain": [
       "<Figure size 160x160 with 1 Axes>"
      ]
     },
     "metadata": {
      "needs_background": "light"
     },
     "output_type": "display_data"
    },
    {
     "data": {
      "image/png": "[encoded data removed]",
      "text/plain": [
       "<Figure size 160x160 with 1 Axes>"
      ]
     },
     "metadata": {
      "needs_background": "light"
     },
     "output_type": "display_data"
    },
    {
     "data": {
      "image/png": "[encoded data removed]",
      "text/plain": [
       "<Figure size 160x160 with 1 Axes>"
      ]
     },
     "metadata": {
      "needs_background": "light"
     },
     "output_type": "display_data"
    },
    {
     "data": {
      "image/png": "[encoded data removed]",
      "text/plain": [
       "<Figure size 160x160 with 1 Axes>"
      ]
     },
     "metadata": {
      "needs_background": "light"
     },
     "output_type": "display_data"
    },
    {
     "data": {
      "image/png": "[encoded data removed]",
      "text/plain": [
       "<Figure size 160x160 with 1 Axes>"
      ]
     },
     "metadata": {
      "needs_background": "light"
     },
     "output_type": "display_data"
    },
    {
     "data": {
      "image/png": "[encoded data removed]",
      "text/plain": [
       "<Figure size 160x160 with 1 Axes>"
      ]
     },
     "metadata": {
      "needs_background": "light"
     },
     "output_type": "display_data"
    },
    {
     "data": {
      "image/png": "[encoded data removed]",
      "text/plain": [
       "<Figure size 160x160 with 1 Axes>"
      ]
     },
     "metadata": {
      "needs_background": "light"
     },
     "output_type": "display_data"
    },
    {
     "data": {
      "image/png": "[encoded data removed]",
      "text/plain": [
       "<Figure size 160x160 with 1 Axes>"
      ]
     },
     "metadata": {
      "needs_background": "light"
     },
     "output_type": "display_data"
    },
    {
     "data": {
      "image/png": "[encoded data removed]",
      "text/plain": [
       "<Figure size 160x160 with 1 Axes>"
      ]
     },
     "metadata": {
      "needs_background": "light"
     },
     "output_type": "display_data"
    }
   ],
   "source": [
    "# first 10 missed predictions\n",
    "for i in range(10):\n",
    "    plt.figure(figsize=(2, 2), dpi=80)\n",
    "    plt.imshow(missed_features[i], cmap=plt.get_cmap('gray'))\n",
    "    plt.title(f'Predicted: {missed_labels[i]}')\n",
    "    plt.show()"
   ]
  },
  {
   "cell_type": "code",
   "execution_count": null,
   "id": "77144aa9-0440-444a-89cf-946fa68b6833",
   "metadata": {},
   "outputs": [],
   "source": []
  }
 ],
 "metadata": {
  "kernelspec": {
   "display_name": "Python 3.9.13",
   "language": "python",
   "name": "python3"
  },
  "language_info": {
   "codemirror_mode": {
    "name": "ipython",
    "version": 3
   },
   "file_extension": ".py",
   "mimetype": "text/x-python",
   "name": "python",
   "nbconvert_exporter": "python",
   "pygments_lexer": "ipython3",
   "version": "3.9.13"
  },
  "vscode": {
   "interpreter": {
    "hash": "df043af0cc3355e80c18baaf88b78a659ad90ca07cd78572fa99182ec8d62083"
   }
  }
 },
 "nbformat": 4,
 "nbformat_minor": 5
}
